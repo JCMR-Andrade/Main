{
  "cells": [
    {
      "cell_type": "markdown",
      "metadata": {
        "id": "view-in-github",
        "colab_type": "text"
      },
      "source": [
        "<a href=\"https://colab.research.google.com/github/JCMR-Andrade/Main/blob/main/Analise%20PCA/%20Analise%20REX%20Junho_Vr.01%20(26_07_2024).ipynb\" target=\"_parent\"><img src=\"https://colab.research.google.com/assets/colab-badge.svg\" alt=\"Open In Colab\"/></a>"
      ]
    },
    {
      "cell_type": "code",
      "source": [
        "# Análise Fatorial PCA\n",
        "# MBA em Data Science e Analytics USP ESALQ\n",
        "\n",
        "# Prof. Dr. Wilson Tarantin Junior\n",
        "\n",
        "#%% Instalando os pacotes\n",
        "\n",
        "\n",
        "!pip install factor_analyzer\n",
        "\n",
        "!pip install pingouin\n",
        "!pip install pyshp"
      ],
      "metadata": {
        "id": "InIR5rjT6xQC"
      },
      "execution_count": null,
      "outputs": []
    },
    {
      "cell_type": "code",
      "source": [
        "import pandas as pd\n",
        "import numpy as np\n",
        "from factor_analyzer import FactorAnalyzer\n",
        "from factor_analyzer.factor_analyzer import calculate_bartlett_sphericity\n",
        "import pingouin as pg\n",
        "import matplotlib.pyplot as plt\n",
        "import seaborn as sns\n",
        "import plotly.io as pio\n",
        "pio.renderers.default = 'browser'\n",
        "import plotly.graph_objects as go\n"
      ],
      "metadata": {
        "id": "DoSxQtPb652l"
      },
      "execution_count": null,
      "outputs": []
    },
    {
      "cell_type": "code",
      "source": [
        "#%% Importando o banco de dados\n",
        "\n",
        "df = pd.read_excel(\"/content/Planilha_Rex_Jun_Teste.xlsx\")\n",
        "df"
      ],
      "metadata": {
        "id": "cIy02_MR7Kpe"
      },
      "execution_count": null,
      "outputs": []
    },
    {
      "cell_type": "code",
      "source": [
        "#%% Estatísticas descritiva das variáveis\n",
        "\n",
        "df_desc = df.describe().T\n",
        "df_desc\n"
      ],
      "metadata": {
        "id": "sO6xf_Mc7Su6"
      },
      "execution_count": null,
      "outputs": []
    },
    {
      "cell_type": "code",
      "source": [
        "#%% Analisando as correlações de Pearson\n",
        "\n",
        "# Matriz de correlações\n",
        "df1 = df\n",
        "df1\n"
      ],
      "metadata": {
        "id": "9auxfDzJ7qoQ"
      },
      "execution_count": null,
      "outputs": []
    },
    {
      "cell_type": "code",
      "source": [
        "df_corr = df1.corr()\n",
        "df_corr"
      ],
      "metadata": {
        "id": "VsjbHg6o7z4T"
      },
      "execution_count": null,
      "outputs": []
    },
    {
      "cell_type": "code",
      "source": [
        "# Gráfico interativo\n",
        "\n",
        "fig = go.Figure()\n",
        "\n",
        "fig.add_trace(\n",
        "    go.Heatmap(\n",
        "        x = df_corr.columns,\n",
        "        y = df_corr.index,\n",
        "        z = np.array(df_corr),\n",
        "        text=df_corr.values,\n",
        "        texttemplate='%{text:.3f}',\n",
        "        colorscale='viridis'))\n",
        "\n",
        "fig.update_layout(\n",
        "    height = 750,\n",
        "    width = 750,\n",
        "    yaxis=dict(autorange=\"reversed\"))\n"
      ],
      "metadata": {
        "id": "5j_Nr2iG7-dm"
      },
      "execution_count": null,
      "outputs": []
    },
    {
      "cell_type": "code",
      "source": [
        "#%% Teste de Esfericidade de Bartlett\n",
        "\n",
        "bartlett, p_value = calculate_bartlett_sphericity(df_corr)\n",
        "\n",
        "print(f'Qui² Bartlett: {round(bartlett, 2)}')\n",
        "print(f'p-valor: {round(p_value, 4)}')\n"
      ],
      "metadata": {
        "id": "91v02ni_9JHy"
      },
      "execution_count": null,
      "outputs": []
    },
    {
      "cell_type": "code",
      "source": [
        "#%% Definindo a PCA (procedimento inicial extraindo todos os fatores possíveis)\n",
        "\n",
        "fa = FactorAnalyzer(n_factors=4, method='principal', rotation=None).fit(df_corr)"
      ],
      "metadata": {
        "id": "FIWm6R1y9URX"
      },
      "execution_count": null,
      "outputs": []
    },
    {
      "cell_type": "code",
      "source": [
        "#%% Obtendo os autovalores\n",
        "\n",
        "autovalores = fa.get_eigenvalues()[0]\n",
        "\n",
        "print(autovalores)\n",
        "# Soma dos autovalores\n",
        "\n",
        "round(autovalores.sum(), 2)"
      ],
      "metadata": {
        "id": "LSdcZsbd9clu"
      },
      "execution_count": null,
      "outputs": []
    },
    {
      "cell_type": "code",
      "source": [
        "#%% Eigenvalues, variâncias e variâncias acumuladas\n",
        "\n",
        "autovalores_fatores = fa.get_factor_variance()\n",
        "\n",
        "tabela_eigen = pd.DataFrame(autovalores_fatores)\n",
        "tabela_eigen.columns = [f\"Fator {i+1}\" for i, v in enumerate(tabela_eigen.columns)]\n",
        "tabela_eigen.index = ['Autovalor','Variância', 'Variância Acumulada']\n",
        "tabela_eigen = tabela_eigen.T\n",
        "\n",
        "print(tabela_eigen)"
      ],
      "metadata": {
        "id": "M9YyzEZY9rfA"
      },
      "execution_count": null,
      "outputs": []
    },
    {
      "cell_type": "code",
      "source": [
        "#%% Gráfico da variância acumulada dos componentes principais\n",
        "\n",
        "plt.figure(figsize=(12,8))\n",
        "ax = sns.barplot(x=tabela_eigen.index, y=tabela_eigen['Variância'], data=tabela_eigen, palette='pastel')\n",
        "ax.bar_label(ax.containers[0])\n",
        "plt.title(\"Fatores Extraídos\", fontsize=16)\n",
        "plt.xlabel(f\"{tabela_eigen.shape[0]} fatores que explicam {round(tabela_eigen['Variância'].sum()*100,2)}% da variância\", fontsize=12)\n",
        "plt.ylabel(\"Porcentagem de variância explicada\", fontsize=12)\n",
        "plt.show()"
      ],
      "metadata": {
        "id": "OdmeompW9-TY"
      },
      "execution_count": null,
      "outputs": []
    },
    {
      "cell_type": "code",
      "source": [
        "#%% Determinando as cargas fatoriais\n",
        "\n",
        "cargas_fatoriais = fa.loadings_\n",
        "\n",
        "tabela_cargas = pd.DataFrame(cargas_fatoriais)\n",
        "tabela_cargas.columns = [f\"Fator {i+1}\" for i, v in enumerate(tabela_cargas.columns)]\n",
        "tabela_cargas.index = df_corr.columns\n",
        "\n",
        "print(tabela_cargas)\n"
      ],
      "metadata": {
        "id": "pmePCffM-E_a"
      },
      "execution_count": null,
      "outputs": []
    },
    {
      "cell_type": "code",
      "source": [
        "#%% Analisando as cargas fatoriais em cada fator extraído\n",
        "\n",
        "tabela_cargas_graph = tabela_cargas.reset_index()\n",
        "tabela_cargas_graph = tabela_cargas_graph.melt(id_vars='index')\n",
        "\n",
        "sns.barplot(data=tabela_cargas_graph, x='variable', y='value', hue='index', palette='bright')\n",
        "plt.legend(title='Variáveis', bbox_to_anchor=(1,1), fontsize = '6')\n",
        "plt.title('Cargas Fatoriais', fontsize='12')\n",
        "plt.xlabel(xlabel=None)\n",
        "plt.ylabel(ylabel=None)\n",
        "plt.show()\n"
      ],
      "metadata": {
        "id": "s7gE1CNH-WJ7"
      },
      "execution_count": null,
      "outputs": []
    },
    {
      "cell_type": "code",
      "source": [
        "#%% Determinando as comunalidades\n",
        "\n",
        "comunalidades = fa.get_communalities()\n",
        "\n",
        "tabela_comunalidades = pd.DataFrame(comunalidades)\n",
        "tabela_comunalidades.columns = ['Comunalidades']\n",
        "tabela_comunalidades.index = df_corr.columns\n",
        "\n",
        "print(tabela_comunalidades)"
      ],
      "metadata": {
        "id": "jWLeWUGa-cgc"
      },
      "execution_count": null,
      "outputs": []
    },
    {
      "cell_type": "code",
      "source": [
        "#%% Extração dos fatores para as observações do banco de dados\n",
        "\n",
        "fatores = pd.DataFrame(fa.transform(df_corr))\n",
        "fatores.columns =  [f\"Fator {i+1}\" for i, v in enumerate(fatores.columns)]\n",
        "\n",
        "# Adicionando os fatores ao banco de dados\n",
        "\n",
        "df3 = pd.concat([df.reset_index(drop=True), fatores], axis=1)"
      ],
      "metadata": {
        "id": "dcE8P4I_-kqb"
      },
      "execution_count": null,
      "outputs": []
    },
    {
      "cell_type": "code",
      "source": [
        "#%% Identificando os scores fatoriais\n",
        "\n",
        "scores = fa.weights_\n",
        "\n",
        "tabela_scores = pd.DataFrame(scores)\n",
        "tabela_scores.columns = [f\"Fator {i+1}\" for i, v in enumerate(tabela_scores.columns)]\n",
        "tabela_scores.index = df_corr.columns\n",
        "\n",
        "print(tabela_scores)\n"
      ],
      "metadata": {
        "id": "J8rHLBvL-nLa"
      },
      "execution_count": null,
      "outputs": []
    },
    {
      "cell_type": "code",
      "source": [
        "#%% Analisando os scores fatoriais em cada fator extraído\n",
        "\n",
        "tabela_scores_graph = tabela_scores.reset_index()\n",
        "tabela_scores_graph = tabela_scores_graph.melt(id_vars='index')\n",
        "\n",
        "sns.barplot(data=tabela_scores_graph, x='variable', y='value', hue='index', palette='rocket')\n",
        "plt.legend(title='Variáveis', bbox_to_anchor=(1,1), fontsize = '6')\n",
        "plt.title('Scores Fatoriais', fontsize='12')\n",
        "plt.xlabel(xlabel=None)\n",
        "plt.ylabel(ylabel=None)\n",
        "plt.show()\n"
      ],
      "metadata": {
        "id": "us_pQqid-_1d"
      },
      "execution_count": null,
      "outputs": []
    },
    {
      "cell_type": "code",
      "source": [
        "df3"
      ],
      "metadata": {
        "id": "LZxkvruaF0iX"
      },
      "execution_count": null,
      "outputs": []
    },
    {
      "cell_type": "code",
      "source": [
        "#%% Vamos consolidar os 3 fatores em uma medida única (soma ponderada)\n",
        "\n",
        "df3['Ranking'] = 0\n",
        "\n",
        "for index, item in enumerate(list(tabela_eigen.index)):\n",
        "    variancia = tabela_eigen.loc[item]['Variância']\n",
        "\n",
        "    df3['Ranking'] = df3['Ranking'] + df3[tabela_eigen.index[index]]*variancia\n"
      ],
      "metadata": {
        "id": "pbEKBPs3_DM-"
      },
      "execution_count": null,
      "outputs": []
    },
    {
      "cell_type": "code",
      "source": [
        "df3.reset_index(inplace=True)\n",
        "df3.set_index('index', inplace=True)\n",
        "df3.drop(columns='level_0', inplace=True)\n",
        "\n",
        "df3.info()\n"
      ],
      "metadata": {
        "id": "fzkg3EpxHhzL"
      },
      "execution_count": null,
      "outputs": []
    },
    {
      "cell_type": "code",
      "source": [
        "#%% Os preços alinham-se às características representadas nos fatores?\n",
        "\n",
        "pg.rcorr(df3[['Ranking', 'Fator 1', 'Fator 2', 'Fator 3', 'Fator 4']],\n",
        "         method = 'pearson', upper = 'pval',\n",
        "         decimals = 4,\n",
        "         pval_stars = {0.01: '***', 0.05: '**', 0.10: '*'})"
      ],
      "metadata": {
        "id": "UoF0ZtWUAjtL"
      },
      "execution_count": null,
      "outputs": []
    },
    {
      "cell_type": "code",
      "source": [],
      "metadata": {
        "id": "uecBViwmIdhV"
      },
      "execution_count": null,
      "outputs": []
    }
  ],
  "metadata": {
    "colab": {
      "name": "Olá, este é o Colaboratory",
      "toc_visible": true,
      "provenance": [],
      "include_colab_link": true
    },
    "kernelspec": {
      "display_name": "Python 3",
      "name": "python3"
    }
  },
  "nbformat": 4,
  "nbformat_minor": 0
}