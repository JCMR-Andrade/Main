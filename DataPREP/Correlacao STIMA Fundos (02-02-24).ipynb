{
 "cells": [
  {
   "cell_type": "code",
   "execution_count": 91,
   "metadata": {},
   "outputs": [],
   "source": [
    "import io\n",
    "import pandas as pd\n",
    "import datetime as dt\n",
    "import numpy as np\n",
    "from dataprep.eda import create_report\n",
    "import warnings\n",
    "import dataprep.clean as dc\n",
    "import dataprep.eda as ed\n",
    "from dataprep.eda import plot_correlation, Categorical, Numerical\n",
    "import openpyxl\n",
    "import datetime\n",
    "\n",
    "warnings.filterwarnings(\"ignore\")\n"
   ]
  },
  {
   "cell_type": "code",
   "execution_count": 92,
   "metadata": {},
   "outputs": [
    {
     "name": "stdout",
     "output_type": "stream",
     "text": [
      "Index(['Unnamed: 0', 'DT_COMPTC', 'CNPJ_FUNDO', 'DENOM_SOCIAL', 'VL_QUOTA',\n",
      "       'VL_TOTAL', 'VL_PATRIM_LIQ', 'NR_COTST', 'CAPTC_DIA', 'RESG_DIA',\n",
      "       'Rentabilidade_Dia', 'Rentabilidade_Cota', 'Dif_Valor_Carteira',\n",
      "       'Dif_Patrimonio', 'Rent_Diaria_PL'],\n",
      "      dtype='object')\n"
     ]
    }
   ],
   "source": [
    "df = pd.read_excel('C:\\\\Users\\\\julio.andrade\\\\OneDrive - bbce.com.br\\\\Área de Trabalho\\\\Códigos B3\\\\Retorno Fundo.xlsx', sheet_name='Fundo STIMA', engine='openpyxl')\n",
    "\n",
    "#Imprimir Nome Das Colunas Para Poder Convertê-las Em Numeric\n",
    "print(df.columns)"
   ]
  },
  {
   "cell_type": "code",
   "execution_count": 93,
   "metadata": {},
   "outputs": [
    {
     "name": "stdout",
     "output_type": "stream",
     "text": [
      "     Unnamed: 0   DT_COMPTC          CNPJ_FUNDO  \\\n",
      "0             0  2021-03-15  36.771.708/0001-93   \n",
      "1             1  2021-03-16  36.771.708/0001-93   \n",
      "2             2  2021-03-17  36.771.708/0001-93   \n",
      "3             3  2021-03-18  36.771.708/0001-93   \n",
      "4             4  2021-03-19  36.771.708/0001-93   \n",
      "..          ...         ...                 ...   \n",
      "717         717  2024-01-23  36.771.708/0001-93   \n",
      "718         718  2024-01-25  36.771.708/0001-93   \n",
      "719         719  2024-01-26  36.771.708/0001-93   \n",
      "720         720  2024-01-29  36.771.708/0001-93   \n",
      "721         721  2024-01-30  36.771.708/0001-93   \n",
      "\n",
      "                                         DENOM_SOCIAL  VL_QUOTA    VL_TOTAL  \\\n",
      "0    STIMA ENERGIA FUNDO DE INVESTIMENTO MULTIMERCADO  1.000000  5000000.00   \n",
      "1    STIMA ENERGIA FUNDO DE INVESTIMENTO MULTIMERCADO  0.999553  5000297.16   \n",
      "2    STIMA ENERGIA FUNDO DE INVESTIMENTO MULTIMERCADO  0.999456  5000356.60   \n",
      "3    STIMA ENERGIA FUNDO DE INVESTIMENTO MULTIMERCADO  1.002220  5000550.51   \n",
      "4    STIMA ENERGIA FUNDO DE INVESTIMENTO MULTIMERCADO  1.001703  5001075.46   \n",
      "..                                                ...       ...         ...   \n",
      "717  STIMA ENERGIA FUNDO DE INVESTIMENTO MULTIMERCADO  0.960878  7119822.12   \n",
      "718  STIMA ENERGIA FUNDO DE INVESTIMENTO MULTIMERCADO  0.951403  7126091.44   \n",
      "719  STIMA ENERGIA FUNDO DE INVESTIMENTO MULTIMERCADO  0.945300  7129150.15   \n",
      "720  STIMA ENERGIA FUNDO DE INVESTIMENTO MULTIMERCADO  0.911045  7132217.91   \n",
      "721  STIMA ENERGIA FUNDO DE INVESTIMENTO MULTIMERCADO  0.927853  7135294.70   \n",
      "\n",
      "     VL_PATRIM_LIQ  NR_COTST  CAPTC_DIA  RESG_DIA  Rentabilidade_Dia  \\\n",
      "0             0.00         0        0.0       0.0                NaN   \n",
      "1       4997763.55         7  5000000.0       0.0          -0.000447   \n",
      "2       4997278.40         7        0.0       0.0          -0.000097   \n",
      "3       5011101.85         7        0.0       0.0           0.002766   \n",
      "4       5008514.35         7        0.0       0.0          -0.000516   \n",
      "..             ...       ...        ...       ...                ...   \n",
      "717     6662368.11         8        0.0       0.0          -0.010866   \n",
      "718     6596669.24         8        0.0       0.0          -0.009861   \n",
      "719     6554352.49         8        0.0       0.0          -0.006415   \n",
      "720     6316845.40         8        0.0       0.0          -0.036237   \n",
      "721     6433383.96         8        0.0       0.0           0.018449   \n",
      "\n",
      "        Rentabilidade_Cota  Dif_Valor_Carteira  Dif_Patrimonio  Rent_Diaria_PL  \n",
      "0    Retorno fundo: -7.21%                 NaN             NaN             NaN  \n",
      "1    Retorno fundo: -7.21%            0.000059             inf             inf  \n",
      "2    Retorno fundo: -7.21%            0.000012       -0.000097       -0.000097  \n",
      "3    Retorno fundo: -7.21%            0.000039        0.002766        0.002766  \n",
      "4    Retorno fundo: -7.21%            0.000105       -0.000516       -0.000516  \n",
      "..                     ...                 ...             ...             ...  \n",
      "717  Retorno fundo: -7.21%            0.000446       -0.010866       -0.010866  \n",
      "718  Retorno fundo: -7.21%            0.000881       -0.009861       -0.009861  \n",
      "719  Retorno fundo: -7.21%            0.000429       -0.006415       -0.006415  \n",
      "720  Retorno fundo: -7.21%            0.000430       -0.036237       -0.036237  \n",
      "721  Retorno fundo: -7.21%            0.000431        0.018449        0.018449  \n",
      "\n",
      "[722 rows x 15 columns]\n"
     ]
    }
   ],
   "source": [
    "# #Antes de Converter Os Valores, É Necessário Tirar Pontos, Vírgulas e R$ Caso Não Venham Como Texto Da Planilha\n",
    "df1 = pd.DataFrame(df)\n",
    "print(df1)\n",
    "\n",
    "df1['VL_QUOTA'] = df1['VL_QUOTA'].replace('\\.', '', regex=True).replace('R\\$', '', regex=True).replace(',', '.', regex=True)\n",
    "df1['VL_TOTAL'] = df1['VL_TOTAL'].replace('\\.', '', regex=True).replace('R\\$', '', regex=True).replace(',', '.', regex=True)\n",
    "df1['VL_PATRIM_LIQ'] = df1['VL_PATRIM_LIQ'].replace('\\.', '', regex=True).replace('R\\$', '', regex=True).replace(',', '.', regex=True)\n",
    "df1['CAPTC_DIA'] = df1['CAPTC_DIA'].replace('\\.', '', regex=True).replace('R\\$', '', regex=True).replace(',', '.', regex=True)\n",
    "df1['RESG_DIA'] = df1['RESG_DIA'].replace('\\.', '', regex=True).replace('R\\$', '', regex=True).replace(',', '.', regex=True)\n",
    "\n",
    "df1 = pd.DataFrame(df1, columns=['DT_COMPTC', 'CNPJ_FUNDO', 'DENOM_SOCIAL', 'VL_QUOTA', 'VL_TOTAL', 'VL_PATRIM_LIQ', 'NR_COTST', 'CAPTC_DIA', 'RESG_DIA', 'Rentabilidade_Dia', 'Rentabilidade_Cota', 'Dif_Valor_Carteira', 'Dif_Patrimonio', 'Rent_Diaria_PL'])\n",
    "\n",
    "# print(df)'Rentabilidade_Dia'\t'Rentabilidade_Cota'\t'Dif_Valor_Carteira'\t'Dif_Patrimonio'\t'Rent_Diaria_PL'\n",
    "\n"
   ]
  },
  {
   "cell_type": "code",
   "execution_count": 94,
   "metadata": {},
   "outputs": [],
   "source": [
    "# Criando uma cópia do dataframe original\n",
    "# df2 = df.copy(df1)\n",
    "\n",
    "#Converte a Data no Formato de Data\n",
    "df1['DT_COMPTC'] = pd.to_datetime(df['DT_COMPTC'], dayfirst=True, format='mixed', errors='ignore') # usar dayfirst=True\n",
    "\n",
    "# print(df2.columns)\n",
    "\n",
    "# df = dc.clean_df(df, data_type_detection='atomic', report=True)\n",
    "\n",
    "df2 = pd.DataFrame(df1)\n",
    "\n",
    "# df2 = dc.clean_headers(df2, case='title', report=True, remove_accents=True,\n",
    "#                       replace={'0' : 'Numero Contrato',\n",
    "#                     'Produto' : 'Produto', \n",
    "#                     '2' : 'Comprador',\n",
    "#                     '3' : 'Vendedor',\n",
    "#                     '4' : 'MWh',\n",
    "#                     '5' : 'MWm',\n",
    "#                     '6' : 'Valor',\n",
    "#                     '7' : 'Valor Total',\n",
    "#                     '8' : 'Data / Hora',\n",
    "#                     '9' : 'Operador'}\n",
    "# )\n",
    "# print(df2)\n",
    "\n",
    "# Então Convertemos As Colunas Para Números Com PD.TO_NUMERIC e ignora os Errors\n",
    "df2 = df2.convert_dtypes(infer_objects=True)\n",
    "# df['M Wm'] = pd.to_numeric(df['M Wm'], errors='coerce')\n",
    "df2[\"VL_QUOTA\"] = pd.to_numeric(df2[\"VL_QUOTA\"], errors='coerce')\n",
    "df2[\"VL_TOTAL\"] = pd.to_numeric(df2[\"VL_TOTAL\"], errors='coerce')\n",
    "df2[\"VL_PATRIM_LIQ\"] = pd.to_numeric(df2[\"VL_PATRIM_LIQ\"], errors='coerce')\n",
    "df2[\"CAPTC_DIA\"] = pd.to_numeric(df2[\"CAPTC_DIA\"], errors='coerce')\n",
    "df2[\"RESG_DIA\"] = pd.to_numeric(df2[\"RESG_DIA\"], errors='coerce')\n",
    "df2[\"Rentabilidade_Dia\"] = pd.to_numeric(df2[\"Rentabilidade_Dia\"], errors='coerce')\n",
    "df2[\"Rentabilidade_Cota\"] = pd.to_numeric(df2[\"Rentabilidade_Cota\"], errors='coerce')\n",
    "df2[\"Dif_Valor_Carteira\"] = pd.to_numeric(df2[\"Dif_Valor_Carteira\"], errors='coerce')\n",
    "df2[\"Dif_Patrimonio\"] = pd.to_numeric(df2[\"Dif_Patrimonio\"], errors='coerce')\n",
    "df2[\"Rent_Diaria_PL\"] = pd.to_numeric(df2[\"Rent_Diaria_PL\"], errors='coerce')\n",
    "\n",
    "# converter a coluna \"Operador\" em valores categóricos\n",
    "\n",
    "df2[\"DENOM_SOCIAL\"] = ed.Categorical()\n",
    "\n",
    "df23 = pd.DataFrame(df2)\n",
    "# print(df2.columns)"
   ]
  },
  {
   "cell_type": "code",
   "execution_count": 95,
   "metadata": {},
   "outputs": [
    {
     "data": {
      "application/vnd.jupyter.widget-view+json": {
       "model_id": "fb9aba558600409283a96c3daeb3bea4",
       "version_major": 2,
       "version_minor": 0
      },
      "text/plain": [
       "  0%|          | 0/2028 [00:00<?, ?it/s]"
      ]
     },
     "metadata": {},
     "output_type": "display_data"
    },
    {
     "name": "stdout",
     "output_type": "stream",
     "text": [
      "Report has been saved to Análise STIMA FIM{dia}.html!\n"
     ]
    }
   ],
   "source": [
    "# criar o gráfico de correlação entre as colunas numéricas\n",
    "ed.plot_correlation(df2)\n",
    "\n",
    "# criar uma configuração personalizada\n",
    "# cfg = ed.Config()\n",
    "\n",
    "# # desabilitar o gráfico de linha para o tipo DateTime\n",
    "# cfg.plot.disable(\"line\")\n",
    "\n",
    "# criar o relatório usando a configuração personalizada\n",
    "# report = create_report(df23, config=cfg)\n",
    "# criar o relatório usando a configuração personalizada\n",
    "report = ed.create_report(df23, title=\"Report STIMA FIM!\")\n",
    "dia = datetime.datetime.now()\n",
    "# mostrar o relatório no notebook\n",
    "report\n",
    "\n",
    "# salvar o relatório no disco local\n",
    "report.save(f\"Análise STIMA FIM\" + \"{dia}\")\n",
    "\n",
    "# mostrar o relatório no navegador\n",
    "report.show_browser()"
   ]
  }
 ],
 "metadata": {
  "kernelspec": {
   "display_name": "vera-env",
   "language": "python",
   "name": "python3"
  },
  "language_info": {
   "codemirror_mode": {
    "name": "ipython",
    "version": 3
   },
   "file_extension": ".py",
   "mimetype": "text/x-python",
   "name": "python",
   "nbconvert_exporter": "python",
   "pygments_lexer": "ipython3",
   "version": "3.9.12"
  }
 },
 "nbformat": 4,
 "nbformat_minor": 2
}
