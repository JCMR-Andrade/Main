{
 "cells": [
  {
   "cell_type": "code",
   "execution_count": 13,
   "metadata": {},
   "outputs": [],
   "source": [
    "# -*- coding: utf-8 -*-\n",
    "import pygwalker as pyg\n",
    "import pandas as pd\n",
    "import duckdb\n",
    "import datetime as dt\n",
    "import numpy as np"
   ]
  },
  {
   "cell_type": "code",
   "execution_count": 14,
   "metadata": {},
   "outputs": [],
   "source": [
    "df = pd.read_csv('C:\\\\Users\\\\julio.andrade\\\\OneDrive - bbce.com.br\\\\Área de Trabalho\\\\Códigos B3\\\\Planilhas\\\\Regressao Linear 20240125__21_39_00.csv', sep=';', encoding='latin1')\n",
    "nmp = df.to_numpy()\n",
    "\n",
    "#Imprimir Nome Das Colunas Para Poder Convertê-las Em Numeric\n",
    "#print(df.columns)"
   ]
  },
  {
   "cell_type": "markdown",
   "metadata": {},
   "source": []
  },
  {
   "cell_type": "code",
   "execution_count": 15,
   "metadata": {},
   "outputs": [],
   "source": [
    "#Antes de Converter Os Valores, É Necessário Tirar Pontos, Vírgulas e R$ Caso Não Venham Como Texto Da Planilha\n",
    "\n",
    "df['    Open    '] = df['    Open    '].replace('\\.', '', regex=True).replace('R\\$', '', regex=True).replace(',', '.', regex=True)\n",
    "df['    High    '] = df['    High    '].replace('\\.', '', regex=True).replace('R\\$', '', regex=True).replace(',', '.', regex=True)\n",
    "df['    Low    '] = df['    Low    '].replace('\\.', '', regex=True).replace('R\\$', '', regex=True).replace(',', '.', regex=True)\n",
    "df['    Close    '] = df['    Close    '].replace('\\.', '', regex=True).replace('R\\$', '', regex=True).replace(',', '.', regex=True)\n",
    "df['      Adj Close      '] = df['      Adj Close      '].replace('\\.', '', regex=True).replace('R\\$', '', regex=True).replace(',', '.', regex=True)\n",
    "df['    Volume    '] = df['    Volume    '].replace('\\.', '', regex=True).replace('R\\$', '', regex=True).replace(',', '.', regex=True)\n",
    "df['Previsão'] = df['Previsão'].replace('\\.', '', regex=True).replace('R\\$', '', regex=True).replace(',', '.', regex=True)\n"
   ]
  },
  {
   "cell_type": "code",
   "execution_count": 16,
   "metadata": {},
   "outputs": [
    {
     "name": "stderr",
     "output_type": "stream",
     "text": [
      "WARNING: parse invoke code failed, This may affect feature of export code.\n"
     ]
    },
    {
     "data": {
      "application/vnd.jupyter.widget-view+json": {
       "model_id": "45b3973f5a7343babe57074256b9ed7e",
       "version_major": 2,
       "version_minor": 0
      },
      "text/plain": [
       "Box(children=(HTML(value='<div id=\"ifr-pyg-00060fce9a88d3fbzg0mZATBpHUC76Jk\" style=\"height: auto\">\\n    <head>…"
      ]
     },
     "metadata": {},
     "output_type": "display_data"
    },
    {
     "data": {
      "text/html": [],
      "text/plain": [
       "<IPython.core.display.HTML object>"
      ]
     },
     "metadata": {},
     "output_type": "display_data"
    },
    {
     "data": {
      "text/plain": [
       "<pygwalker.api.pygwalker.PygWalker at 0x253323cefd0>"
      ]
     },
     "execution_count": 16,
     "metadata": {},
     "output_type": "execute_result"
    }
   ],
   "source": [
    "# Então Convertemos As Colunas Para Números Com PD.TO_NUMERIC e ignora os Errors\n",
    "\n",
    "df['    Open    '] = pd.to_numeric(df['    Open    '], errors='coerce')\n",
    "df['    High    '] = pd.to_numeric(df['    High    '], errors='coerce')\n",
    "df['    Low    '] = pd.to_numeric(df['    Low    '], errors='coerce')\n",
    "df['    Close    '] = pd.to_numeric(df['    Close    '], errors='coerce')\n",
    "df['      Adj Close      '] = pd.to_numeric(df['      Adj Close      '], errors='coerce')\n",
    "df['    Volume    '] = pd.to_numeric(df['    Volume    '], errors='coerce')\n",
    "df['Previsão'] = pd.to_numeric(df['Previsão'], errors='coerce')\n",
    "\n",
    "\n",
    "#Converte a Data no Formato de Data\n",
    "df['Date'] = pd.to_datetime(df['Date'], dayfirst=True) # usar dayfirst=True\n",
    "\n",
    "#Roda o BI\n",
    "pyg.walk(df,\n",
    "         use_kernel_calc=True,         # Set `True`, pygwalker will use duckdb as computing engine, it support you explore bigger dataset(<=100GB).\n",
    "         hideDataSourceConfig=True,    # Hide DataSource import and export button (True) or not (False). Default to True\n",
    "         themeKey='vega',              # Theme type.\n",
    "         dark='media',                 # Auto detect OS theme.\n",
    "         store_chart_data=True         # Whether to save chart to disk, only work when spec is json file, Default to False.\n",
    ")  "
   ]
  },
  {
   "cell_type": "code",
   "execution_count": null,
   "metadata": {},
   "outputs": [],
   "source": []
  }
 ],
 "metadata": {
  "kernelspec": {
   "display_name": "base",
   "language": "python",
   "name": "python3"
  },
  "language_info": {
   "codemirror_mode": {
    "name": "ipython",
    "version": 3
   },
   "file_extension": ".py",
   "mimetype": "text/x-python",
   "name": "python",
   "nbconvert_exporter": "python",
   "pygments_lexer": "ipython3",
   "version": "3.9.12"
  }
 },
 "nbformat": 4,
 "nbformat_minor": 2
}
