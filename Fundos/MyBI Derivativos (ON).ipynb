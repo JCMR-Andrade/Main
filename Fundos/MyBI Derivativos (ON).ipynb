{
 "cells": [
  {
   "cell_type": "code",
   "execution_count": 1,
   "metadata": {},
   "outputs": [],
   "source": [
    "# -*- coding: utf-8 -*-\n",
    "import pygwalker as pyg\n",
    "import pandas as pd\n",
    "import duckdb\n",
    "import datetime as dt\n",
    "import numpy as np"
   ]
  },
  {
   "cell_type": "code",
   "execution_count": 2,
   "metadata": {},
   "outputs": [
    {
     "name": "stdout",
     "output_type": "stream",
     "text": [
      "Index(['Número Contrato', 'Status Contrato', 'Produto', 'Código Agrupador',\n",
      "       'Nome Agrupador', 'Comprador', 'Conta C.', 'Vendedor', 'Conta V.',\n",
      "       'MWh', 'MWm', 'Valor', 'Unnamed: 12', 'Status Liquidação',\n",
      "       'Saldo Liquidação', 'Responsável Pagamento', 'Status Antecipação',\n",
      "       'Data / Hora', 'Operador', 'Garantia Vigente', 'Cancelado',\n",
      "       'Motivo Cancelamento', 'Usuário Cancelamento', 'Data Cancelamento'],\n",
      "      dtype='object')\n"
     ]
    }
   ],
   "source": [
    "df = pd.read_csv('C:\\\\Users\\\\julio.andrade\\\\OneDrive - bbce.com.br\\\\Área de Trabalho\\\\Estudos STFIM\\\\bbce_registros 01-01-2020___17-01-2024 - Copia.csv', sep=';')\n",
    "nmp = df.to_numpy()\n",
    "\n",
    "#Imprimir Nome Das Colunas Para Poder Convertê-las Em Numeric\n",
    "print(df.columns)"
   ]
  },
  {
   "cell_type": "code",
   "execution_count": 3,
   "metadata": {},
   "outputs": [],
   "source": [
    "# #Antes de Converter Os Valores, É Necessário Tirar Pontos, Vírgulas e R$ Caso Não Venham Como Texto Da Planilha\n",
    "\n",
    "# df['    Open    '] = df['    Open    '].replace('\\.', '', regex=True).replace('R\\$', '', regex=True).replace(',', '.', regex=True)\n",
    "# df['    High    '] = df['    High    '].replace('\\.', '', regex=True).replace('R\\$', '', regex=True).replace(',', '.', regex=True)\n",
    "df['Valor'] = df['Valor'].replace('\\.', '', regex=True).replace('R\\$', '', regex=True).replace(',', '.', regex=True)\n",
    "# df['    Close    '] = df['    Close    '].replace('\\.', '', regex=True).replace('R\\$', '', regex=True).replace(',', '.', regex=True)\n",
    "# df['      Adj Close      '] = df['      Adj Close      '].replace('\\.', '', regex=True).replace('R\\$', '', regex=True).replace(',', '.', regex=True)\n",
    "# df['    Volume    '] = df['    Volume    '].replace('\\.', '', regex=True).replace('R\\$', '', regex=True).replace(',', '.', regex=True)\n"
   ]
  },
  {
   "cell_type": "code",
   "execution_count": 4,
   "metadata": {
    "scrolled": false
   },
   "outputs": [
    {
     "name": "stderr",
     "output_type": "stream",
     "text": [
      "WARNING: parse invoke code failed, This may affect feature of export code.\n"
     ]
    },
    {
     "data": {
      "application/vnd.jupyter.widget-view+json": {
       "model_id": "7ef788bf2bec4f2a9afdb7b5e084b105",
       "version_major": 2,
       "version_minor": 0
      },
      "text/plain": [
       "Box(children=(HTML(value='<div id=\"ifr-pyg-00060f8c12c08f0eRy7lSGAx2pru8b5Y\" style=\"height: auto\">\\n    <head>…"
      ]
     },
     "metadata": {},
     "output_type": "display_data"
    },
    {
     "data": {
      "text/html": [],
      "text/plain": [
       "<IPython.core.display.HTML object>"
      ]
     },
     "metadata": {},
     "output_type": "display_data"
    },
    {
     "data": {
      "text/plain": [
       "<pygwalker.api.pygwalker.PygWalker at 0x2b84e561a00>"
      ]
     },
     "execution_count": 4,
     "metadata": {},
     "output_type": "execute_result"
    }
   ],
   "source": [
    "#Converte a Data no Formato de Data\n",
    "df['Data / Hora'] = pd.to_datetime(df['Data / Hora'], dayfirst=True) # usar dayfirst=True\n",
    "\n",
    "# Então Convertemos As Colunas Para Números Com PD.TO_NUMERIC e ignora os Errors\n",
    "\n",
    "df['Valor'] = pd.to_numeric(df['Valor'], errors='coerce')\n",
    "df['MWh'] = pd.to_numeric(df['MWh'], errors='coerce')\n",
    "df['MWm'] = pd.to_numeric(df['MWm'], errors='coerce')\n",
    "# df['    Close    '] = pd.to_numeric(df['    Close    '], errors='coerce')\n",
    "# df['      Adj Close      '] = pd.to_numeric(df['      Adj Close      '], errors='coerce')\n",
    "# df['    Volume    '] = pd.to_numeric(df['    Volume    '], errors='coerce')\n",
    "\n",
    "\n",
    "\n",
    "# #Roda o BI\n",
    "pyg.walk(df,\n",
    "         use_kernel_calc=False,         # Set `True`, pygwalker will use duckdb as computing engine, it support you explore bigger dataset(<=100GB).\n",
    "         hideDataSourceConfig=True,    # Hide DataSource import and export button (True) or not (False). Default to True\n",
    "         themeKey='vega',              # Theme type.\n",
    "         dark='media',                 # Auto detect OS theme.\n",
    "         store_chart_data=True         # Whether to save chart to disk, only work when spec is json file, Default to False.\n",
    ")  "
   ]
  }
 ],
 "metadata": {
  "kernelspec": {
   "display_name": "Python 3 (ipykernel)",
   "language": "python",
   "name": "python3"
  },
  "language_info": {
   "codemirror_mode": {
    "name": "ipython",
    "version": 3
   },
   "file_extension": ".py",
   "mimetype": "text/x-python",
   "name": "python",
   "nbconvert_exporter": "python",
   "pygments_lexer": "ipython3",
   "version": "3.9.12"
  }
 },
 "nbformat": 4,
 "nbformat_minor": 2
}
